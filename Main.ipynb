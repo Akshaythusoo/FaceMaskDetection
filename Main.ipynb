{
 "cells": [
  {
   "cell_type": "code",
   "execution_count": 47,
   "metadata": {},
   "outputs": [],
   "source": [
    "import numpy as np # linear algebra\n",
    "import pandas as pd # data processing, CSV file I/O (e.g. pd.read_csv)\n",
    "import tensorflow as tf\n",
    "from tensorflow import keras\n",
    "from keras.models import Sequential\n",
    "from keras.layers import Dense,Activation,Flatten,Dropout\n",
    "from keras.layers import Conv2D,MaxPooling2D\n",
    "from keras.callbacks import ModelCheckpoint\n",
    "from tensorflow.keras.preprocessing.image import ImageDataGenerator\n",
    "from tensorflow.keras import layers\n"
   ]
  },
  {
   "cell_type": "code",
   "execution_count": 48,
   "metadata": {},
   "outputs": [],
   "source": [
    "datagen = ImageDataGenerator (\n",
    "                                   rescale = 1./255,\n",
    "                                   rotation_range=40,\n",
    "                                   width_shift_range=0.2,\n",
    "                                   height_shift_range=0.2,\n",
    "                                   shear_range=0.2,\n",
    "                                   zoom_range=0.2,\n",
    "                                   horizontal_flip=True,\n",
    "                                   fill_mode='nearest'\n",
    "            )\n",
    "\n",
    "images_dir ='MaskData/'"
   ]
  },
  {
   "cell_type": "code",
   "execution_count": 49,
   "metadata": {},
   "outputs": [
    {
     "name": "stdout",
     "output_type": "stream",
     "text": [
      "Found 600 images belonging to 2 classes.\n",
      "Found 100 images belonging to 2 classes.\n",
      "Found 306 images belonging to 2 classes.\n"
     ]
    }
   ],
   "source": [
    "# load the data using data generators\n",
    "train_generator  =    datagen.flow_from_directory(\n",
    "                             images_dir + 'Train',\n",
    "                             seed=42,\n",
    "                             target_size = (200,200),\n",
    "                             batch_size =32 ,               \n",
    "                             class_mode = 'binary',\n",
    "                            )\n",
    "\n",
    "test_generator = datagen.flow_from_directory(\n",
    "                             images_dir + 'Test' ,\n",
    "                             seed=42, \n",
    "                             target_size = (200,200),\n",
    "                             batch_size = 32 ,               \n",
    "                             class_mode = 'binary',\n",
    "                            )\n",
    "\n",
    "Validation_generator = datagen.flow_from_directory(\n",
    "                             images_dir + 'Validation' ,\n",
    "                             seed=42, \n",
    "                             target_size = (200,200),\n",
    "                             batch_size = 32 ,               \n",
    "                             class_mode = 'binary',\n",
    "                            )"
   ]
  },
  {
   "cell_type": "code",
   "execution_count": 50,
   "metadata": {},
   "outputs": [],
   "source": [
    "from keras.layers import Dense,Activation,Flatten,Dropout\n",
    "from keras.layers import Conv2D,MaxPooling2D\n",
    "from keras.callbacks import ModelCheckpoint\n",
    "\n",
    "model=Sequential()\n",
    "\n",
    "model.add(Conv2D(32,(3,3),input_shape=(200,200,3)))\n",
    "model.add(Activation('relu'))\n",
    "model.add(MaxPooling2D(pool_size=(2,2)))\n",
    "#The first CNN layer followed by Relu and MaxPooling layers\n",
    "\n",
    "model.add(Conv2D(64,(3,3)))\n",
    "model.add(Activation('relu'))\n",
    "model.add(MaxPooling2D(pool_size=(2,2)))\n",
    "#The second convolution layer followed by Relu and MaxPooling layers\n",
    "\n",
    "model.add(Flatten())\n",
    "model.add(Dropout(0.5))\n",
    "#Flatten layer to stack the output convolutions from second convolution layer\n",
    "model.add(Dense(128,activation='relu'))\n",
    "#Dense layer of 128 neurons\n",
    "model.add(Dense(2,activation='softmax'))\n",
    "#The Final layer with two outputs for two categories\n",
    "\n",
    "model.compile(loss='sparse_categorical_crossentropy',optimizer='adam',metrics=['accuracy'])"
   ]
  },
  {
   "cell_type": "code",
   "execution_count": 51,
   "metadata": {},
   "outputs": [
    {
     "name": "stdout",
     "output_type": "stream",
     "text": [
      "Epoch 1/15\n",
      "19/19 [==============================] - 56s 3s/step - loss: 2.2364 - accuracy: 0.5083 - val_loss: 0.6129 - val_accuracy: 0.5163\n",
      "Epoch 2/15\n",
      "19/19 [==============================] - 45s 2s/step - loss: 0.5360 - accuracy: 0.7667 - val_loss: 0.4998 - val_accuracy: 0.7516\n",
      "Epoch 3/15\n",
      "19/19 [==============================] - 43s 2s/step - loss: 0.4019 - accuracy: 0.8517 - val_loss: 0.5050 - val_accuracy: 0.7647\n",
      "Epoch 4/15\n",
      "19/19 [==============================] - 47s 2s/step - loss: 0.3984 - accuracy: 0.8600 - val_loss: 0.3688 - val_accuracy: 0.8399\n",
      "Epoch 5/15\n",
      "19/19 [==============================] - 47s 2s/step - loss: 0.3573 - accuracy: 0.8667 - val_loss: 0.3866 - val_accuracy: 0.8627\n",
      "Epoch 6/15\n",
      "19/19 [==============================] - 47s 2s/step - loss: 0.3632 - accuracy: 0.8400 - val_loss: 0.3933 - val_accuracy: 0.8497\n",
      "Epoch 7/15\n",
      "19/19 [==============================] - 47s 2s/step - loss: 0.3335 - accuracy: 0.8550 - val_loss: 0.4192 - val_accuracy: 0.8072\n",
      "Epoch 8/15\n",
      "19/19 [==============================] - 47s 2s/step - loss: 0.3573 - accuracy: 0.8550 - val_loss: 0.4667 - val_accuracy: 0.7974\n",
      "Epoch 9/15\n",
      "19/19 [==============================] - 47s 2s/step - loss: 0.3997 - accuracy: 0.8367 - val_loss: 0.4186 - val_accuracy: 0.8366\n",
      "Epoch 10/15\n",
      "19/19 [==============================] - 47s 2s/step - loss: 0.3586 - accuracy: 0.8500 - val_loss: 0.3720 - val_accuracy: 0.8497\n",
      "Epoch 11/15\n",
      "19/19 [==============================] - 47s 2s/step - loss: 0.3350 - accuracy: 0.8683 - val_loss: 0.3351 - val_accuracy: 0.8595\n",
      "Epoch 12/15\n",
      "19/19 [==============================] - 47s 2s/step - loss: 0.3000 - accuracy: 0.8833 - val_loss: 0.3405 - val_accuracy: 0.8660\n",
      "Epoch 13/15\n",
      "19/19 [==============================] - 50s 3s/step - loss: 0.3089 - accuracy: 0.8800 - val_loss: 0.4262 - val_accuracy: 0.8268\n",
      "Epoch 14/15\n",
      "19/19 [==============================] - 49s 3s/step - loss: 0.3419 - accuracy: 0.8567 - val_loss: 0.3700 - val_accuracy: 0.8464\n",
      "Epoch 15/15\n",
      "19/19 [==============================] - 48s 3s/step - loss: 0.3557 - accuracy: 0.8650 - val_loss: 0.3690 - val_accuracy: 0.8529\n"
     ]
    }
   ],
   "source": [
    "H = model.fit_generator(\n",
    "                    train_generator ,\n",
    "                    epochs = 15,\n",
    "                    validation_data = Validation_generator)"
   ]
  },
  {
   "cell_type": "code",
   "execution_count": 54,
   "metadata": {},
   "outputs": [
    {
     "data": {
      "image/png": "[encoded data removed]",
      "text/plain": [
       "<Figure size 432x288 with 1 Axes>"
      ]
     },
     "metadata": {},
     "output_type": "display_data"
    }
   ],
   "source": [
    "#plot the training loss and accuracy\n",
    "from matplotlib import pyplot as plt\n",
    "N = 15\n",
    "plt.style.use('ggplot')\n",
    "plt.figure()\n",
    "plt.plot(np.arange(0,N) , H.history['loss'] , label ='train_loss')\n",
    "plt.plot(np.arange(0,N) , H.history['val_loss'] , label ='val_loss')\n",
    "plt.plot(np.arange(0,N) , H.history['accuracy'] , label ='train_acc')\n",
    "plt.plot(np.arange(0,N) , H.history['val_accuracy'] , label ='val_acc')\n",
    "plt.title(\"Training Loss and Accuracy\")\n",
    "plt.xlabel(\"Epochs #\")\n",
    "plt.ylabel(\"loss/Accuracy\")\n",
    "plt.legend(loc=\"lower left\")\n",
    "plt.show()"
   ]
  },
  {
   "cell_type": "code",
   "execution_count": 55,
   "metadata": {},
   "outputs": [],
   "source": [
    "\n",
    "import cv2 \n",
    "face_clsfr=cv2.CascadeClassifier('haarscade_frontalface_default.xml')"
   ]
  },
  {
   "cell_type": "code",
   "execution_count": 60,
   "metadata": {},
   "outputs": [],
   "source": [
    "labels_dict={0:'NO Mask',1:'Mask'}\n",
    "color_dict={0:(0,0,255),1:(0,255,0)}\n",
    "\n",
    "size = 4\n",
    "webcam = cv2.VideoCapture(0) #Use camera 0\n",
    "\n",
    "# We load the xml file\n",
    "classifier = cv2.CascadeClassifier('haarcascade_frontalface_default.xml')\n",
    "\n",
    "while True:\n",
    "    (rval, im) = webcam.read()\n",
    "    im=cv2.flip(im,1,1) #Flip to act as a mirror\n",
    "\n",
    "    # Resize the image to speed up detection\n",
    "    mini = cv2.resize(im, (im.shape[1] // size, im.shape[0] // size))\n",
    "\n",
    "    # detect MultiScale / faces \n",
    "    faces = classifier.detectMultiScale(mini)\n",
    "\n",
    "    # Draw rectangles around each face\n",
    "    for f in faces:\n",
    "        (x, y, w, h) = [v * size for v in f] #Scale the shapesize backup\n",
    "        #Save just the rectangle faces in SubRecFaces\n",
    "        face_img = im[y:y+h, x:x+w]\n",
    "        resized=cv2.resize(face_img,(200,200))\n",
    "        normalized=resized/255.0\n",
    "        reshaped=np.reshape(normalized,(1,200,200,3))\n",
    "        reshaped = np.vstack([reshaped])\n",
    "        result=model.predict(reshaped)\n",
    "        #print(result)\n",
    "        \n",
    "        label=np.argmax(result,axis=1)[0]\n",
    "      \n",
    "        cv2.rectangle(im,(x,y),(x+w,y+h),color_dict[label],2)\n",
    "        cv2.rectangle(im,(x,y-40),(x+w,y),color_dict[label],-1)\n",
    "        cv2.putText(im, labels_dict[label], (x, y-10),cv2.FONT_HERSHEY_SIMPLEX,0.8,(255,255,255),2)\n",
    "        \n",
    "    # Show the image\n",
    "    cv2.imshow('LIVE',   im)\n",
    "    key = cv2.waitKey(10)\n",
    "    # if Esc key is press then break out of the loop \n",
    "    if key == 27: #The Esc key\n",
    "        break\n",
    "# Stop video\n",
    "webcam.release()\n",
    "\n",
    "# Close all started windows\n",
    "cv2.destroyAllWindows()"
   ]
  },
  {
   "cell_type": "code",
   "execution_count": 61,
   "metadata": {},
   "outputs": [
    {
     "name": "stdout",
     "output_type": "stream",
     "text": [
      "unmask\n"
     ]
    }
   ],
   "source": [
    "from keras.preprocessing import image\n",
    "test_image = image.load_img(images_dir +'Test/Mask/2260.png', target_size = (200,200,3))\n",
    "test_image = image.img_to_array(test_image)\n",
    "test_image = np.expand_dims(test_image, axis = 0)\n",
    "result = model.predict(test_image)\n",
    "answer = model.predict_classes(test_image)\n",
    "train_generator.class_indices\n",
    "if result[0][0]==1:\n",
    "    prediction = 'mask'\n",
    "else :\n",
    "    prediction = 'unmask'\n",
    "print(prediction)"
   ]
  },
  {
   "cell_type": "code",
   "execution_count": 59,
   "metadata": {},
   "outputs": [],
   "source": []
  },
  {
   "cell_type": "code",
   "execution_count": null,
   "metadata": {},
   "outputs": [],
   "source": []
  }
 ],
 "metadata": {
  "kernelspec": {
   "display_name": "Python 3",
   "language": "python",
   "name": "python3"
  }
 },
 "nbformat": 4,
 "nbformat_minor": 4
}
